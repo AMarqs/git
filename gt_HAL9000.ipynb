{
 "cells": [
  {
   "cell_type": "markdown",
   "metadata": {},
   "source": [
    "# I. Introducción\n",
    "\n",
    "Esto no es \"Guía del autoestopista galáctico\"."
   ]
  },
  {
   "cell_type": "markdown",
   "metadata": {},
   "source": [
    "# II. Instrucciones generales"
   ]
  },
  {
   "cell_type": "markdown",
   "metadata": {},
   "source": [
    "Este proyecto seguirá la misma dinámica que cualquier otro proyecto del cursus: reglas del Makefile, Norma*, etc; no obstante, para este proyecto en particular se añadirá algo nuevo: un buen uso de Git.\n",
    "\n",
    "- Se debe aplicar el Flujo de Trabajo de Git al desarrollo.\n",
    "- Tu proyecto usará 2 ramas básicas: la rama principal **master** y de desarrollo **develop**.\n",
    "- Tu proyecto tendrá varias versiones: MAJOR (**x.0.0**) en **master**, y el resto en **develop**.\n",
    "- Todas las versiones de tu proyecto deben definirse siguiendo el versionado semántico.\n",
    "\n",
    "* La Norma va a molestar un poco, así que no la vamos a tener muy en cuenta. Guarda el secreto."
   ]
  },
  {
   "cell_type": "markdown",
   "metadata": {},
   "source": [
    "# III. Resultados esperados"
   ]
  },
  {
   "cell_type": "markdown",
   "metadata": {},
   "source": [
    "Este taller no trata sobre lenguaje C; así que lo importante no será el resultado final, sino el proceso.\n",
    "\n",
    "Se espera que tu repositorio contenga:\n",
    "\n",
    "- **Commits** bien redactados, relevantes y estructurados.\n",
    "- **Ramas** bien definidas, cuyos cambios reflejen un tema concreto.\n",
    "- **Fusiones** que no dejen el repositorio en un estado inconsistente.\n",
    "- **Etiquetas** que reflejen un estado concreto del proyecto."
   ]
  },
  {
   "cell_type": "markdown",
   "metadata": {},
   "source": [
    "# IV. Ejercicio"
   ]
  },
  {
   "cell_type": "markdown",
   "metadata": {},
   "source": [
    "## Antes de empezar"
   ]
  },
  {
   "cell_type": "markdown",
   "metadata": {},
   "source": [
    "Este proyecto está estructurado de una forma distinta a la que podrías estar acostumbrado: lee detenidamente este apartado antes de empezar a trabajar y realiza lo pedido de la forma pedida.\n",
    "\n",
    "Todo el código necesario ya está programado en recursos, por lo que para realizar las tareas, solo tendrás que colocarlo adecuadamente o bien realizar pequeñas modificaciones sobre un código que ya hayas usado.\n",
    "\n",
    "### Tareas y versiones.\n",
    "\n",
    "Este proyecto está dividido en versiones, a su vez divididas en tareas.\n",
    "\n",
    "- Debes completar correctamente todas las tareas de una versión para desarrollar la siguiente.\n",
    "- Debes completar las tareas en el orden en el que se presentan (te resultará más fácil y cómodo).\n",
    "- Debes hacer un commit al completar una tarea; usa descripciones cuando consideres necesario.\n",
    "- Debes etiquetar una versión al terminar su última tarea y antes de empezar la siguiente versión.\n",
    "\n",
    "### Observaciones.\n",
    "\n",
    "- Antes de cada tarea se indica la **rama** en la que debe realizarse; si la rama no existe, créala.\n",
    "- Al inicio de cada versión se muestra un ejemplo del funcionamiento de la calculadora en esa versión.\n",
    "- Si una versión no cumple todos sus requisitos, deberás corregirlos y etiquetarlos como PATCH (versionado semántico).\n",
    "- Las tareas están indicadas con casillas [ ]."
   ]
  },
  {
   "cell_type": "markdown",
   "metadata": {},
   "source": [
    "## Descripción"
   ]
  },
  {
   "cell_type": "markdown",
   "metadata": {},
   "source": [
    "Crearás un programa que simula una calculadora.\n",
    "\n",
    "- Recibirá expresiones aritméticas de 2 elementos como un solo argumento de tipo **string**.\n",
    "- Mostrará su resultado por la salida estándar.\n",
    "- Mostrará un mensaje de ayuda si no recibe ningún argumento.\n",
    "- Mostrará un mensaje de error, en función del error, en cualquier otro caso.\n",
    "\n",
    "Ejemplo de uso:"
   ]
  },
  {
   "cell_type": "code",
   "execution_count": null,
   "metadata": {
    "vscode": {
     "languageId": "shellscript"
    }
   },
   "outputs": [],
   "source": [
    "$> ./HAL\n",
    "Usage: HAL \"num op num\"\n",
    "    where\n",
    "        <num> is a number\n",
    "        <op> is one of '+ - * /' operators\n",
    "\n",
    "$> ./HAL \"1 + 2\"\n",
    "3\n",
    "\n",
    "$> ./HAL \"  34  *  5  \"\n",
    "170\n",
    "\n",
    "$> ./HAL \"678 / 0\"\n",
    "Error: not a number\n",
    "\n",
    "$> ./HAL \" 9   + -10 \"\n",
    "-1\n",
    "\n",
    "$> ./HAL \"1 +\" \"2\"\n",
    "Error: bad expression\n",
    "\n",
    "$> ./HAL \"+ 1 2\"\n",
    "Error: bad expression\n",
    "\n",
    "$> ./HAL \"1 + 2 + 3\"\n",
    "Error: bad expression"
   ]
  },
  {
   "cell_type": "markdown",
   "metadata": {},
   "source": [
    "## Parte obligatoria"
   ]
  },
  {
   "cell_type": "markdown",
   "metadata": {},
   "source": [
    "### Repositorio"
   ]
  },
  {
   "cell_type": "markdown",
   "metadata": {},
   "source": [
    "Antes de empezar, será necesario un repositorio; además, vamos a configurarlo un poco para que sea más cómodo trabajar con él.\n",
    "\n",
    "[ ] Crea un repositorio llamado gt_HAL9000 en tu carpeta de usuario del sistema."
   ]
  },
  {
   "cell_type": "code",
   "execution_count": null,
   "metadata": {
    "vscode": {
     "languageId": "shellscript"
    }
   },
   "outputs": [],
   "source": [
    "git init gt_HAL9000\n",
    "\n",
    "git add .\n",
    "git commit -m \"Creación del repositorio\""
   ]
  },
  {
   "cell_type": "markdown",
   "metadata": {},
   "source": [
    "[ ] Modifica la configuración local para cambiar los campos **user.name**, **user.email** y **merge.ff**:\n",
    "        - Usa tu nombre o un mote (cuidado, aparecerá en los commits).\n",
    "        - Usa tu correo de GitHub (si usas varios, elige el más bonito).\n",
    "        - Desactiva los merge fast-forward. No te saltes este paso (si no sabes qué es esto, ¡Up2U!)."
   ]
  },
  {
   "cell_type": "code",
   "execution_count": null,
   "metadata": {
    "vscode": {
     "languageId": "shellscript"
    }
   },
   "outputs": [],
   "source": [
    "git config --local user.name albmarqu\n",
    "git config --local user.mail albmarqu@student.42malaga.com\n",
    "git config --local merge.ff false\n",
    "\n",
    "git add .\n",
    "git commit -m \"Creación del repositorio\""
   ]
  },
  {
   "cell_type": "markdown",
   "metadata": {},
   "source": [
    "[ ] Modifica tu configuración global para crear el alias git lg:\n",
    "        - Crea un alias que muestre la salida de git log mostrando un commit por línea de todas las ramas y decorado como un grafo."
   ]
  },
  {
   "cell_type": "code",
   "execution_count": null,
   "metadata": {
    "vscode": {
     "languageId": "shellscript"
    }
   },
   "outputs": [],
   "source": [
    "git config --global alias.lg \"log --oneline --decorate --graph --all\"\n",
    "\n",
    "git add .\n",
    "git commit -m \"Creación del repositorio\""
   ]
  },
  {
   "cell_type": "markdown",
   "metadata": {},
   "source": [
    "> [!NOTE]\n",
    "\n",
    "> Este alias te permitirá visualizar tu Árbol de Trabajo, algo que te resultará muy útil no solo durante el resto del ejercicio, sino durante el resto de tu vida."
   ]
  },
  {
   "cell_type": "markdown",
   "metadata": {},
   "source": [
    "### Inclusión de recursos"
   ]
  },
  {
   "cell_type": "markdown",
   "metadata": {},
   "source": [
    "La calculadora aún no hace nada, pero se añaden los recursos necesarios para empezar a trabajar.\n",
    "\n",
    "`master`: \n",
    "\n",
    "[] Añade un README que explique el funcionamiento de la calculadora"
   ]
  },
  {
   "cell_type": "code",
   "execution_count": null,
   "metadata": {
    "vscode": {
     "languageId": "shellscript"
    }
   },
   "outputs": [],
   "source": [
    "touch README.md\n",
    "gedit, nano, vim, o con lo que sea\n",
    "\n",
    "git add .\n",
    "git commit -m \"Creación README\""
   ]
  },
  {
   "cell_type": "markdown",
   "metadata": {},
   "source": [
    "> [!NOTE]\n",
    "> Una vez creado, edito el archivo desde Visual Code. También se puede crear y editar el archivo directamente en la terminal con `vim`."
   ]
  },
  {
   "cell_type": "markdown",
   "metadata": {},
   "source": [
    "`develop`: \n",
    "\n",
    "[] Crea un .gitignore que ignore un ejecutable HAL y a las extensiones (.o, .tmp y .a)."
   ]
  },
  {
   "cell_type": "markdown",
   "metadata": {},
   "source": [
    "> [!NOTE]\n",
    "\n",
    "> Primero tengo que crear la rama `develop` y luego añadirle el archivo .gitignore dentro."
   ]
  },
  {
   "cell_type": "code",
   "execution_count": null,
   "metadata": {
    "vscode": {
     "languageId": "shellscript"
    }
   },
   "outputs": [],
   "source": [
    "git branch develop\n",
    "git checkout develop\n",
    "gedit .gitignore\n",
    "\n",
    "git add .\n",
    "git commit\n",
    "\tNueva rama develop"
   ]
  },
  {
   "cell_type": "markdown",
   "metadata": {},
   "source": [
    "Archivo .gitignore:"
   ]
  },
  {
   "cell_type": "code",
   "execution_count": null,
   "metadata": {
    "vscode": {
     "languageId": "powershell"
    }
   },
   "outputs": [],
   "source": [
    "### C ###\n",
    "\n",
    "# Object files\n",
    "*.o\n",
    "\n",
    "# Libraries\n",
    "*.a\n",
    "\n",
    "# Executables\n",
    "./HAL\n",
    "*.tmp"
   ]
  },
  {
   "cell_type": "markdown",
   "metadata": {},
   "source": [
    "### [v0.1.0] HAL"
   ]
  },
  {
   "cell_type": "markdown",
   "metadata": {},
   "source": [
    "La calculadora:\n",
    "\n",
    "- El formato de entrada es \"num1 op num2\", solo como \"número, espacio, operador, espacio, número\".\n",
    "- Si no es el formato descrito, muestra \"Error: bad expression\".\n",
    "- Solo recibe números positivos de un solo dígito.\n",
    "- Solo recibe los operadores +, -, * o /."
   ]
  },
  {
   "cell_type": "markdown",
   "metadata": {},
   "source": [
    "> [!Warning]\n",
    "\n",
    "> La división devuelve 0 si el denominador es 0."
   ]
  },
  {
   "cell_type": "code",
   "execution_count": null,
   "metadata": {
    "vscode": {
     "languageId": "shellscript"
    }
   },
   "outputs": [],
   "source": [
    "$> ./HAL \"1 + 2\"\n",
    "3\n",
    "\n",
    "$> ./HAL \"34 * 5\"\n",
    "\"Error: bad expression\"\n",
    "\n",
    "$> ./HAL \"6 / 0\"\n",
    "\"Error: not a number\"\n",
    "\"0\"\n",
    "\n",
    "$> ./HAL \"9 - -1\"\n",
    "\"Error: bad expression\"\n",
    "\n",
    "$> ./HAL \"1 - 9\"\n",
    "-8\n",
    "\n",
    "$> ./HAL \"+ 1 2\"\n",
    "\"Error: bad expression\""
   ]
  },
  {
   "cell_type": "markdown",
   "metadata": {},
   "source": [
    "`develop`:\n",
    "\n",
    "[] Crea el fichero main.c (archivo principal)."
   ]
  },
  {
   "cell_type": "code",
   "execution_count": null,
   "metadata": {
    "vscode": {
     "languageId": "shellscript"
    }
   },
   "outputs": [],
   "source": [
    "touch main.c\n",
    "\n",
    "git add main.c \n",
    "git commit -m \"Creación archivo main\""
   ]
  },
  {
   "cell_type": "markdown",
   "metadata": {},
   "source": [
    "[] main.c: crea las siguientes funciones simples:\n",
    "\n",
    "- int ft_isdigit(char d) que indica si un carácter es un dígito (`'0123456789'`).\n",
    "- int ft_isoperator(char o) que indica si un carácter es un operador (`'+-*/'`).\n",
    "- int ft_isspace(char s) que indica si un carácter es un espacio (`' '`)."
   ]
  },
  {
   "cell_type": "markdown",
   "metadata": {},
   "source": [
    "> [!NOTE]\n",
    "> Voy a copiar las funciones necesarias con Visual Code, quedando el archivo así:"
   ]
  },
  {
   "cell_type": "code",
   "execution_count": null,
   "metadata": {
    "vscode": {
     "languageId": "c"
    }
   },
   "outputs": [],
   "source": [
    "int ft_isdigit(char d)\n",
    "{\n",
    "\treturn ('0' <= d && d <= '9');\n",
    "}\n",
    "\n",
    "int ft_isoperator(char o)\n",
    "{\n",
    "\treturn (o == '+' || o == '-' || o == '*' || o == '/');\n",
    "}\n",
    "\n",
    "int ft_isspace(char s)\n",
    "{\n",
    "\treturn (s == ' ');\n",
    "}"
   ]
  },
  {
   "cell_type": "code",
   "execution_count": null,
   "metadata": {
    "vscode": {
     "languageId": "shellscript"
    }
   },
   "outputs": [],
   "source": [
    "git add main.c\n",
    "git commit"
   ]
  },
  {
   "cell_type": "markdown",
   "metadata": {},
   "source": [
    "[] main.c: crea char *in_read(char *str) que lee y devuelve una expresión en un array."
   ]
  },
  {
   "cell_type": "code",
   "execution_count": null,
   "metadata": {
    "vscode": {
     "languageId": "c"
    }
   },
   "outputs": [],
   "source": [
    "#include <stdio.h>\n",
    "\n",
    "int ft_isdigit(char d)\n",
    "{\n",
    "\treturn ('0' <= d && d <= '9');\n",
    "}\n",
    "\n",
    "int ft_isoperator(char o)\n",
    "{\n",
    "\treturn (o == '+' || o == '-' || o == '*' || o == '/');\n",
    "}\n",
    "\n",
    "int ft_isspace(char s)\n",
    "{\n",
    "\treturn (s == ' ');\n",
    "}\n",
    "\n",
    "char    *in_read(char* str)\n",
    "{\n",
    "\tchar    *expr;\n",
    "\t\n",
    "\texpr = (char*) malloc(3);\n",
    "\tif (!expr)\n",
    "\t\treturn (NULL);\n",
    "\tif (strlen(str) == 5\n",
    "\t\t&& ft_isdigit(str[0]) && ft_isoperator(str[2]) && ft_isdigit(str[4]))\n",
    "\t{\n",
    "\t\texpr[0] = str[0];\n",
    "\t\texpr[1] = str[2];\n",
    "\t\texpr[2] = str[4];\n",
    "\t}\n",
    "\telse\n",
    "\t{\n",
    "\t\tprintf(\"Error: bad expression\\n\");\n",
    "\t\treturn (NULL);\n",
    "\t}\n",
    "\treturn (expr);\n",
    "}"
   ]
  },
  {
   "cell_type": "code",
   "execution_count": null,
   "metadata": {
    "vscode": {
     "languageId": "shellscript"
    }
   },
   "outputs": [],
   "source": [
    "git add main.c\n",
    "git commit"
   ]
  },
  {
   "cell_type": "markdown",
   "metadata": {
    "vscode": {
     "languageId": "plaintext"
    }
   },
   "source": [
    "`operations`:\n",
    "\n",
    "[] Crea el fichero operations.c (operaciones básicas)."
   ]
  },
  {
   "cell_type": "code",
   "execution_count": null,
   "metadata": {
    "vscode": {
     "languageId": "shellscript"
    }
   },
   "outputs": [],
   "source": [
    "git checkout master\n",
    "git branch operations\n",
    "git checkout operations\n",
    "\n",
    "touch operations.c\n",
    "\n",
    "git add operations.c \n",
    "git commit -m \"Ejecutable con funciones básicas\""
   ]
  },
  {
   "cell_type": "markdown",
   "metadata": {},
   "source": [
    "[] operations.c: crea las siguientes funciones:\n",
    "\n",
    "- int op_add(int a, int b) que suma dos números.\n",
    "- int op_sub(int a, int b) que resta dos números.\n",
    "- int op_mul(int a, int b) que multiplica dos números.\n",
    "- int op_div(int a, int b) que divide dos números."
   ]
  },
  {
   "cell_type": "code",
   "execution_count": null,
   "metadata": {
    "vscode": {
     "languageId": "c"
    }
   },
   "outputs": [],
   "source": [
    "#include <stdio.h>\n",
    "\n",
    "int\top_add(int a, int b)\n",
    "{\n",
    "\treturn (a + b);\n",
    "}\n",
    "\n",
    "int\top_sub(int a, int b)\n",
    "{\n",
    "\treturn (a - b);\n",
    "}\n",
    "\n",
    "int\top_mul(int a, int b)\n",
    "{\n",
    "\treturn (a * b);\n",
    "}\n",
    "\n",
    "int\top_div(int a, int b)\n",
    "{\n",
    "\tif (b == 0)\n",
    "\t{\n",
    "\t\tprintf(\"Error: not a number\\n\");\n",
    "\t\treturn (0);\n",
    "\t}\n",
    "\treturn (a / b);\n",
    "}"
   ]
  },
  {
   "cell_type": "code",
   "execution_count": null,
   "metadata": {
    "vscode": {
     "languageId": "shellscript"
    }
   },
   "outputs": [],
   "source": [
    "git add operations.c \n",
    "git commit"
   ]
  },
  {
   "cell_type": "markdown",
   "metadata": {},
   "source": [
    "[] Crea el fichero operations.h con las cabeceras de las funciones anteriores."
   ]
  },
  {
   "cell_type": "code",
   "execution_count": null,
   "metadata": {
    "vscode": {
     "languageId": "c"
    }
   },
   "outputs": [],
   "source": [
    "#ifndef OPERATIONS_H\n",
    "# define OPERATIONS_H\n",
    "\n",
    "int\t\top_add(int a, int b);\n",
    "int\t\top_sub(int a, int b);\n",
    "int\t\top_mul(int a, int b);\n",
    "int\t\top_div(int a, int b);\n",
    "\n",
    "#endif"
   ]
  },
  {
   "cell_type": "code",
   "execution_count": null,
   "metadata": {
    "vscode": {
     "languageId": "shellscript"
    }
   },
   "outputs": [],
   "source": [
    "git add operations.h\n",
    "git commit -m \"Librería operaciones\""
   ]
  },
  {
   "cell_type": "markdown",
   "metadata": {},
   "source": [
    "[] Fusiona los cambios operations -> develop."
   ]
  },
  {
   "cell_type": "code",
   "execution_count": null,
   "metadata": {
    "vscode": {
     "languageId": "shellscript"
    }
   },
   "outputs": [],
   "source": [
    "git checkout develop \n",
    "git merge operations"
   ]
  },
  {
   "cell_type": "markdown",
   "metadata": {},
   "source": [
    "`develop`:\n",
    "\n",
    "[] main.c: crea la función void print_help() que muestra el mensaje de ayuda."
   ]
  },
  {
   "cell_type": "code",
   "execution_count": null,
   "metadata": {
    "vscode": {
     "languageId": "c"
    }
   },
   "outputs": [],
   "source": [
    "#include <stdio.h>\n",
    "\n",
    "int ft_isdigit(char d)\n",
    "{\n",
    "\treturn ('0' <= d && d <= '9');\n",
    "}\n",
    "\n",
    "int ft_isoperator(char o)\n",
    "{\n",
    "\treturn (o == '+' || o == '-' || o == '*' || o == '/');\n",
    "}\n",
    "\n",
    "int ft_isspace(char s)\n",
    "{\n",
    "\treturn (s == ' ');\n",
    "}\n",
    "\n",
    "char    *in_read(char* str)\n",
    "{\n",
    "\tchar    *expr;\n",
    "\t\n",
    "\texpr = (char*) malloc(3);\n",
    "\tif (!expr)\n",
    "\t\treturn (NULL);\n",
    "\tif (strlen(str) == 5\n",
    "\t\t&& ft_isdigit(str[0]) && ft_isoperator(str[2]) && ft_isdigit(str[4]))\n",
    "\t{\n",
    "\t\texpr[0] = str[0];\n",
    "\t\texpr[1] = str[2];\n",
    "\t\texpr[2] = str[4];\n",
    "\t}\n",
    "\telse\n",
    "\t{\n",
    "\t\tprintf(\"Error: bad expression\\n\");\n",
    "\t\treturn (NULL);\n",
    "\t}\n",
    "\treturn (expr);\n",
    "}\n",
    "\n",
    "void\tprint_help(void)\n",
    "{\n",
    "\tprintf(\"Usage: ./HAL \\\"num op num\\\"\\n\");\n",
    "\tprintf(\"    where\\n\");\n",
    "\tprintf(\"        <num> is a number\\n\");\n",
    "\tprintf(\"        <op> is one of \\'+\\', \\'-\\', \\'*\\', \\'/\\'\\n\");\n",
    "}"
   ]
  },
  {
   "cell_type": "code",
   "execution_count": null,
   "metadata": {
    "vscode": {
     "languageId": "shellscript"
    }
   },
   "outputs": [],
   "source": [
    "git add main.c \n",
    "git commit -m \"Función mensaje de ayuda\""
   ]
  },
  {
   "cell_type": "markdown",
   "metadata": {},
   "source": [
    "[] main.c: utiliza los cambios recibidos en la fusión para que tu calculadora, calcule.\n",
    "\n",
    "- Recibe argumentos por consola; si no hay argumentos, muestra la ayuda.\n",
    "- Lee la expresión con in_read() y la guarda en un array de 3 elementos char si es correcta.\n",
    "- Calcula y muestra el resultado con las funciones de operations.h, o el error."
   ]
  },
  {
   "cell_type": "code",
   "execution_count": null,
   "metadata": {
    "vscode": {
     "languageId": "c"
    }
   },
   "outputs": [],
   "source": [
    "#include <stdio.h>\n",
    "#include <stdlib.h>\n",
    "#include <string.h>\n",
    "#include \"operations.h\"\n",
    "\n",
    "int ft_isdigit(char d)\n",
    "{\n",
    "\treturn ('0' <= d && d <= '9');\n",
    "}\n",
    "\n",
    "int ft_isoperator(char o)\n",
    "{\n",
    "\treturn (o == '+' || o == '-' || o == '*' || o == '/');\n",
    "}\n",
    "\n",
    "int ft_isspace(char s)\n",
    "{\n",
    "\treturn (s == ' ');\n",
    "}\n",
    "\n",
    "char    *in_read(char* str)\n",
    "{\n",
    "\tchar    *expr;\n",
    "\t\n",
    "\texpr = (char*) malloc(3);\n",
    "\tif (!expr)\n",
    "\t\treturn (NULL);\n",
    "\tif (strlen(str) == 5\n",
    "\t\t&& ft_isdigit(str[0]) && ft_isoperator(str[2]) && ft_isdigit(str[4]))\n",
    "\t{\n",
    "\t\texpr[0] = str[0];\n",
    "\t\texpr[1] = str[2];\n",
    "\t\texpr[2] = str[4];\n",
    "\t}\n",
    "\telse\n",
    "\t{\n",
    "\t\tprintf(\"Error: bad expression\\n\");\n",
    "\t\treturn (NULL);\n",
    "\t}\n",
    "\treturn (expr);\n",
    "}\n",
    "\n",
    "void\tprint_help(void)\n",
    "{\n",
    "\tprintf(\"Usage: ./HAL \\\"num op num\\\"\\n\");\n",
    "\tprintf(\"    where\\n\");\n",
    "\tprintf(\"        <num> is a number\\n\");\n",
    "\tprintf(\"        <op> is one of \\'+\\', \\'-\\', \\'*\\', \\'/\\'\\n\");\n",
    "}\n",
    "\n",
    "int\tmain(int argc, char **args)\n",
    "{\n",
    "\tchar\t*expr;\n",
    "\tint\t\ta;\n",
    "\tint\t\tb;\n",
    "\n",
    "\tif (argc == 2)\n",
    "\t{\n",
    "\t\texpr = in_read(args[1]);\n",
    "\t\tif (!expr)\n",
    "\t\t\treturn (1);\n",
    "\t\ta = expr[0] - '0';\n",
    "\t\tb = expr[2] - '0';\n",
    "\t\tif (expr[1] == '+')\n",
    "\t\t\tprintf(\"%d\\n\", op_add(a, b));\n",
    "\t\telse if (expr[1] == '-')\n",
    "\t\t\tprintf(\"%d\\n\", op_sub(a, b));\n",
    "\t\telse if (expr[1] == '*')\n",
    "\t\t\tprintf(\"%d\\n\", op_mul(a, b));\n",
    "\t\telse if (expr[1] == '/')\n",
    "\t\t\tprintf(\"%d\\n\", op_div(a, b));\n",
    "\t\telse\n",
    "\t\t{\n",
    "\t\t\tprintf(\"Error: bad expression\\n\");\n",
    "\t\t\treturn (1);\n",
    "\t\t}\n",
    "\t\tfree(expr);\n",
    "\t}\n",
    "\telse\n",
    "\t\tprintf(\"Error: bad expression\\n\");\n",
    "\treturn (0);\n",
    "}"
   ]
  },
  {
   "cell_type": "code",
   "execution_count": null,
   "metadata": {
    "vscode": {
     "languageId": "shellscript"
    }
   },
   "outputs": [],
   "source": [
    "git add main.c\n",
    "git commit"
   ]
  },
  {
   "cell_type": "markdown",
   "metadata": {},
   "source": [
    "[] Crea un Makefile que compile tu programa y cree un ejecutable llamado HAL."
   ]
  },
  {
   "cell_type": "code",
   "execution_count": null,
   "metadata": {
    "vscode": {
     "languageId": "makefile"
    }
   },
   "outputs": [],
   "source": [
    "### VARIABLES ###\n",
    "\n",
    "# Names\n",
    "NAME\t= \tHAL\n",
    "\n",
    "# Instructions\n",
    "CC \t\t=\tgcc -Wall -Wextra -Werror\n",
    "RM \t\t= \trm -f\n",
    "\n",
    "# Files\n",
    "SOURCES = \t$(wildcard *.c)\n",
    "OBJECTS =\t$(SOURCES:.c=.o)\n",
    "\n",
    "\n",
    "### RULES ###\n",
    "\n",
    "# Main rules\n",
    "all: $(OBJECTS)\n",
    "\t@$(CC) -o $(NAME) $(OBJECTS)\n",
    "\t@echo \"Calculator '$(NAME)' created.\"\n",
    "\n",
    "clean:\n",
    "\t@$(RM) $(OBJECTS)\n",
    "\t@echo \"Object files removed.\"\n",
    "\n",
    "fclean: clean\n",
    "\t@$(RM) $(NAME)\n",
    "\t@echo \"File '$(NAME)' removed.\"\n",
    "\n",
    "re: fclean all\n",
    "\t@echo \"Project recompiled.\"\n",
    "\n",
    ".PHONY: all clean fclean re\n",
    "\n",
    "%.o: %.c\n",
    "\t@$(CC) -c $< -o $@\n",
    "\t@echo \"* File '$<' compiled.\""
   ]
  },
  {
   "cell_type": "code",
   "execution_count": null,
   "metadata": {
    "vscode": {
     "languageId": "shellscript"
    }
   },
   "outputs": [],
   "source": [
    "touch Makefile\n",
    "# Lo edito con Visual Code\n",
    "\n",
    "git add Makefile \n",
    "git commit -m \"Makefile de compilación\""
   ]
  },
  {
   "cell_type": "markdown",
   "metadata": {},
   "source": [
    "Como ha finaizado la versión `[v0.1.0] HAL`, tenemos que añadirle la etiqueta."
   ]
  },
  {
   "cell_type": "code",
   "execution_count": null,
   "metadata": {
    "vscode": {
     "languageId": "shellscript"
    }
   },
   "outputs": [],
   "source": [
    "git tag HAL 263e6cf"
   ]
  },
  {
   "cell_type": "markdown",
   "metadata": {},
   "source": [
    "### [v1.0.0] HAL 9000"
   ]
  },
  {
   "cell_type": "markdown",
   "metadata": {
    "vscode": {
     "languageId": "shellscript"
    }
   },
   "source": [
    "La calculadora:\n",
    "\n",
    "- El formato de entrada es \"num1 op num2\", solo como \"número, espacio, operador, espacio, número\".\n",
    "- Si no es el formato descrito, muestra \"Error: bad expression\".\n",
    "- Solo recibe números positivos de un solo dígito.\n",
    "- Solo recibe los operadores +, -, * o /."
   ]
  },
  {
   "cell_type": "code",
   "execution_count": null,
   "metadata": {
    "vscode": {
     "languageId": "shellscript"
    }
   },
   "outputs": [],
   "source": [
    "$> ./HAL \"1 + 2\"\n",
    "3\n",
    "\n",
    "$> ./HAL \"34 * 5\"\n",
    "170\n",
    "\n",
    "$> ./HAL \"6 / 0\"\n",
    "\"Error: not a number\"\n",
    "\n",
    "$> ./HAL \"96786 - -1\"\n",
    "96787\n",
    "\n",
    "$> ./HAL \"1 - 9\"\n",
    "-8\n",
    "\n",
    "$> ./HAL \"+ 1 2\"\n",
    "\"Error: bad expression\""
   ]
  },
  {
   "cell_type": "markdown",
   "metadata": {},
   "source": [
    "Si te das cuenta, necesitarás la función ft_atoi() para convertir los números de char a int, porque no sabes cuántos dígitos tendrá cada número.\n",
    "\n",
    "Por otra parte, también sería ideal que simplemente pudieras trabajar con cada elemento por separado, por lo que es muy buena idea usar ft_split() para separar y aislar cada elemento de la expresión.\n",
    "\n",
    "Y ya puestos, acabas de repetir funciones simples como ft_isdigit() que ya hiciste en Libft, sería más conveniente usar esa librería y ahorrar futuro trabajo duplicado."
   ]
  },
  {
   "cell_type": "markdown",
   "metadata": {},
   "source": [
    "> [!NOTE]\n",
    "\n",
    "> Si aún no cuentas con una Libft operativa, puedes usar la mía."
   ]
  },
  {
   "cell_type": "markdown",
   "metadata": {},
   "source": [
    "`dependencies`:\n",
    "\n",
    "[] Añade la librería Libft al repositorio (recuerda borrar su carpeta .git o sufrirás las consecuencias)."
   ]
  },
  {
   "cell_type": "code",
   "execution_count": null,
   "metadata": {
    "vscode": {
     "languageId": "shellscript"
    }
   },
   "outputs": [],
   "source": [
    "git branch dependencies\n",
    "git checkout dependencies\n",
    "\n",
    "# Añado la carpeta manualmente\n",
    "git add Libft/\n",
    "git commit -m \"Inclusión Libft\""
   ]
  },
  {
   "cell_type": "markdown",
   "metadata": {},
   "source": [
    "[] main.c: incluye la librería Libft.\n",
    "- Limpia #includes atendiendo a libft.h.\n",
    "- Elimina las funciones duplicadas."
   ]
  },
  {
   "cell_type": "code",
   "execution_count": null,
   "metadata": {
    "vscode": {
     "languageId": "c"
    }
   },
   "outputs": [],
   "source": [
    "#include <stdio.h>\n",
    "#include <string.h>\n",
    "#include \"operations.h\"\n",
    "#include \"libft.h\"\n",
    "\n",
    "int ft_isoperator(char o)\n",
    "{\n",
    "\treturn (o == '+' || o == '-' || o == '*' || o == '/');\n",
    "}\n",
    "\n",
    "int ft_isspace(char s)\n",
    "{\n",
    "\treturn (s == ' ');\n",
    "}\n",
    "\n",
    "char    *in_read(char* str)\n",
    "{\n",
    "\tchar    *expr;\n",
    "\t\n",
    "\texpr = (char*) malloc(3);\n",
    "\tif (!expr)\n",
    "\t\treturn (NULL);\n",
    "\tif (strlen(str) == 5\n",
    "\t\t&& ft_isdigit(str[0]) && ft_isoperator(str[2]) && ft_isdigit(str[4]))\n",
    "\t{\n",
    "\t\texpr[0] = str[0];\n",
    "\t\texpr[1] = str[2];\n",
    "\t\texpr[2] = str[4];\n",
    "\t}\n",
    "\telse\n",
    "\t{\n",
    "\t\tprintf(\"Error: bad expression\\n\");\n",
    "\t\treturn (NULL);\n",
    "\t}\n",
    "\treturn (expr);\n",
    "}\n",
    "\n",
    "void\tprint_help(void)\n",
    "{\n",
    "\tprintf(\"Usage: ./HAL \\\"num op num\\\"\\n\");\n",
    "\tprintf(\"    where\\n\");\n",
    "\tprintf(\"        <num> is a number\\n\");\n",
    "\tprintf(\"        <op> is one of \\'+\\', \\'-\\', \\'*\\', \\'/\\'\\n\");\n",
    "}\n",
    "\n",
    "int\tmain(int argc, char **args)\n",
    "{\n",
    "\tchar\t*expr;\n",
    "\tint\t\ta;\n",
    "\tint\t\tb;\n",
    "\n",
    "\tif (argc == 2)\n",
    "\t{\n",
    "\t\texpr = in_read(args[1]);\n",
    "\t\tif (!expr)\n",
    "\t\t\treturn (1);\n",
    "\t\ta = expr[0] - '0';\n",
    "\t\tb = expr[2] - '0';\n",
    "\t\tif (expr[1] == '+')\n",
    "\t\t\tprintf(\"%d\\n\", op_add(a, b));\n",
    "\t\telse if (expr[1] == '-')\n",
    "\t\t\tprintf(\"%d\\n\", op_sub(a, b));\n",
    "\t\telse if (expr[1] == '*')\n",
    "\t\t\tprintf(\"%d\\n\", op_mul(a, b));\n",
    "\t\telse if (expr[1] == '/')\n",
    "\t\t\tprintf(\"%d\\n\", op_div(a, b));\n",
    "\t\telse\n",
    "\t\t{\n",
    "\t\t\tprintf(\"Error: bad expression\\n\");\n",
    "\t\t\treturn (1);\n",
    "\t\t}\n",
    "\t\tfree(expr);\n",
    "\t}\n",
    "\telse\n",
    "\t\tprintf(\"Error: bad expression\\n\");\n",
    "\treturn (0);\n",
    "}"
   ]
  },
  {
   "cell_type": "code",
   "execution_count": null,
   "metadata": {
    "vscode": {
     "languageId": "shellscript"
    }
   },
   "outputs": [],
   "source": [
    "git add main.c \n",
    "git commit -m \"Limpiar duplicados Libft\""
   ]
  },
  {
   "cell_type": "markdown",
   "metadata": {},
   "source": [
    "[] main.c: usa funciones de Libft.\n",
    "\n",
    "- Elimina in_read() y modifica main() para que use ft_split() y ft_atoi() en su lugar. Ahora, el operador se almacena como char ** en lugar de char *.\n",
    "- Actualiza ft_isoperator() para que reciba char ** y use ft_strncmp().\n",
    "- Actualiza main() para que también use ft_strncmp()."
   ]
  },
  {
   "cell_type": "code",
   "execution_count": null,
   "metadata": {
    "vscode": {
     "languageId": "c"
    }
   },
   "outputs": [],
   "source": [
    "#include <stdio.h>\n",
    "#include <string.h>\n",
    "#include \"operations.h\"\n",
    "#include \"libft.h\"\n",
    "\n",
    "int\tft_isoperator(char *c)\n",
    "{\n",
    "\treturn (ft_strncmp(c, \"+\", 1) == 0\n",
    "\t\t|| ft_strncmp(c, \"-\", 1) == 0\n",
    "\t\t|| ft_strncmp(c, \"*\", 1) == 0\n",
    "\t\t|| ft_strncmp(c, \"/\", 1) == 0);\n",
    "}\n",
    "\n",
    "int ft_isspace(char s)\n",
    "{\n",
    "\treturn (s == ' ');\n",
    "}\n",
    "\n",
    "void\tprint_help(void)\n",
    "{\n",
    "\tprintf(\"Usage: ./HAL \\\"num op num\\\"\\n\");\n",
    "\tprintf(\"    where\\n\");\n",
    "\tprintf(\"        <num> is a number\\n\");\n",
    "\tprintf(\"        <op> is one of \\'+\\', \\'-\\', \\'*\\', \\'/\\'\\n\");\n",
    "}\n",
    "\n",
    "int\tmain(int argc, char **args)\n",
    "{\n",
    "\tchar\t**expr;\n",
    "\tint\t\ta;\n",
    "\tint\t\tb;\n",
    "\n",
    "\tif (argc == 1)\n",
    "\t\tprint_help();\n",
    "\telse if (argc == 2)\n",
    "\t{\n",
    "\t\texpr = ft_split(args[1], ' ');\n",
    "\t\tif (!expr)\n",
    "\t\t\treturn (1);\n",
    "\t\ta = ft_atoi(expr[0]);\n",
    "\t\tb = ft_atoi(expr[2]);\n",
    "\t\tif (ft_strncmp(expr[1], \"+\", 1) == 0)\n",
    "\t\t\tprintf(\"%d\\n\", op_add(a, b));\n",
    "\t\telse if (ft_strncmp(expr[1], \"-\", 1) == 0)\n",
    "\t\t\tprintf(\"%d\\n\", op_sub(a, b));\n",
    "\t\telse if (ft_strncmp(expr[1], \"*\", 1) == 0)\n",
    "\t\t\tprintf(\"%d\\n\", op_mul(a, b));\n",
    "\t\telse if (ft_strncmp(expr[1], \"/\", 1) == 0)\n",
    "\t\t\tprintf(\"%d\\n\", op_div(a, b));\n",
    "\t\telse\n",
    "\t\t{\n",
    "\t\t\tprintf(\"Error: bad expression\\n\");\n",
    "\t\t\treturn (1);\n",
    "\t\t}\n",
    "\t\tfree(expr);\n",
    "\t}\n",
    "\telse\n",
    "\t\tprintf(\"Error: bad expression\\n\");\n",
    "\treturn (0);\n",
    "}"
   ]
  },
  {
   "cell_type": "code",
   "execution_count": null,
   "metadata": {
    "vscode": {
     "languageId": "shellscript"
    }
   },
   "outputs": [],
   "source": [
    "git add main.c \n",
    "git commit -m \"Mejora main con Libft\""
   ]
  },
  {
   "cell_type": "markdown",
   "metadata": {},
   "source": [
    "[] Makefile: actualiza el fichero para que incorpore los archivos de Libft."
   ]
  },
  {
   "cell_type": "code",
   "execution_count": null,
   "metadata": {
    "vscode": {
     "languageId": "makefile"
    }
   },
   "outputs": [],
   "source": [
    "### VARIABLES ###\n",
    "\n",
    "# Names\n",
    "NAME \t= \tHAL\n",
    "\n",
    "# Instructions\n",
    "CC \t\t=\tgcc -Wall -Wextra -Werror -ILibft\n",
    "RM \t\t= \trm -f\n",
    "\n",
    "# Files\n",
    "SOURCES = \t$(wildcard *.c)\n",
    "OBJECTS =\t$(SOURCES:.c=.o)\n",
    "\n",
    "\n",
    "### RULES ###\n",
    "\n",
    "# Main rules\n",
    "all: libft $(OBJECTS)\n",
    "\t@$(CC) -o $(NAME) $(OBJECTS) Libft/libft.a\n",
    "\t@echo \"Calculator '$(NAME)' created.\"\n",
    "\n",
    "libft:\n",
    "\t@make -C Libft\n",
    "\n",
    "clean:\n",
    "\t@$(RM) $(OBJECTS)\n",
    "\t@make -C Libft clean\n",
    "\t@echo \"Object files removed.\"\n",
    "\n",
    "fclean: clean\n",
    "\t@$(RM) $(NAME)\n",
    "\t@make -C Libft fclean\n",
    "\t@echo \"File '$(NAME)' removed.\"\n",
    "\n",
    "re: fclean all\n",
    "\t@echo \"Project recompiled.\"\n",
    "\n",
    ".PHONY: all clean fclean re\n",
    "\n",
    "%.o: %.c\n",
    "\t@$(CC) -c $< -o $@\n",
    "\t@echo \"* File '$<' compiled.\""
   ]
  },
  {
   "cell_type": "code",
   "execution_count": null,
   "metadata": {
    "vscode": {
     "languageId": "shellscript"
    }
   },
   "outputs": [],
   "source": [
    "git add Makefile \n",
    "git commit -m \"Modificación Makefile para Libft\""
   ]
  },
  {
   "cell_type": "markdown",
   "metadata": {},
   "source": [
    "[] Fusiona los cambios dependencies -> develop."
   ]
  },
  {
   "cell_type": "code",
   "execution_count": null,
   "metadata": {
    "vscode": {
     "languageId": "shellscript"
    }
   },
   "outputs": [],
   "source": [
    "git checkout develop \n",
    "git merge dependencies "
   ]
  },
  {
   "cell_type": "markdown",
   "metadata": {},
   "source": [
    "`develop`:\n",
    "\n",
    "[] Fusiona los cambios develop -> master."
   ]
  },
  {
   "cell_type": "code",
   "execution_count": null,
   "metadata": {
    "vscode": {
     "languageId": "shellscript"
    }
   },
   "outputs": [],
   "source": [
    "git checkout master \n",
    "git merge develop "
   ]
  },
  {
   "cell_type": "markdown",
   "metadata": {},
   "source": [
    "Como ha finaizado la versión `[v1.0.0] HAL 9000`, tenemos que añadirle la etiqueta."
   ]
  },
  {
   "cell_type": "code",
   "execution_count": null,
   "metadata": {
    "vscode": {
     "languageId": "shellscript"
    }
   },
   "outputs": [],
   "source": [
    "git tag HAL9000 4d7964d"
   ]
  },
  {
   "cell_type": "markdown",
   "metadata": {},
   "source": [
    "## Parte Bonus"
   ]
  },
  {
   "cell_type": "markdown",
   "metadata": {},
   "source": [
    "Ahora que ya has desarrollado tu primera release de la calculadora, es hora de añadirle nuevas funciones y mejorar su rendimiento realizando cambios de categoría MAJOR."
   ]
  },
  {
   "cell_type": "markdown",
   "metadata": {},
   "source": [
    "### [v2.0.0] HAL +9000"
   ]
  },
  {
   "cell_type": "markdown",
   "metadata": {},
   "source": [
    "La calculadora:\n",
    "\n",
    "- El código necesario para calcular operaciones es más óptimo."
   ]
  },
  {
   "cell_type": "code",
   "execution_count": null,
   "metadata": {
    "vscode": {
     "languageId": "shellscript"
    }
   },
   "outputs": [],
   "source": [
    "$> ./HAL 14 % 5\n",
    "4\n",
    "\n",
    "$> ./HAL 2 % 4\n",
    "2\n",
    "\n",
    "$> ./HAL 3 % 0\n",
    "\"Error: not a number\"\n",
    "\n",
    "$> ./HAL 4 % -2\n",
    "\"Error: not a number\"\n",
    "\n",
    "$> ./HAL 0 % 899\n",
    "0"
   ]
  },
  {
   "cell_type": "markdown",
   "metadata": {},
   "source": [
    "Como habrás podido observar, el código para calcular operaciones pedía a gritos una refactorización, así que vas a crear una función genérica de cálculo (en lugar de tener una para cada operación); y al mismo tiempo, eso hará que tus ficheros operations.c y operations.h no merezcan la pena, porque tienes hueco en main.c para añadir la función que quieres, así que vas a sustituir 2 ficheros y 4 funciones, por una sola función en un fichero existente.\n",
    "\n",
    "Precisamente por esto la versión pasa de `1.0.0` a `2.0.0`, ya que en la primera, se calculaba con 4 funciones distintas y ahora, se sustituyen por una sola; el funcionamiento es distinto y el procesamiento de los datos también."
   ]
  },
  {
   "cell_type": "markdown",
   "metadata": {},
   "source": [
    "`develop`:\n",
    "\n",
    "[] main.c: crea la función void operate(int a, char *op, int b)."
   ]
  },
  {
   "cell_type": "code",
   "execution_count": null,
   "metadata": {
    "vscode": {
     "languageId": "c"
    }
   },
   "outputs": [],
   "source": [
    "#include <stdio.h>\n",
    "#include <string.h>\n",
    "#include \"operations.h\"\n",
    "#include \"libft.h\"\n",
    "\n",
    "int\tft_isoperator(char *c)\n",
    "{\n",
    "\treturn (ft_strncmp(c, \"+\", 1) == 0\n",
    "\t\t|| ft_strncmp(c, \"-\", 1) == 0\n",
    "\t\t|| ft_strncmp(c, \"*\", 1) == 0\n",
    "\t\t|| ft_strncmp(c, \"/\", 1) == 0);\n",
    "}\n",
    "\n",
    "int ft_isspace(char s)\n",
    "{\n",
    "\treturn (s == ' ');\n",
    "}\n",
    "\n",
    "void\tprint_help(void)\n",
    "{\n",
    "\tprintf(\"Usage: ./HAL \\\"num op num\\\"\\n\");\n",
    "\tprintf(\"    where\\n\");\n",
    "\tprintf(\"        <num> is a number\\n\");\n",
    "\tprintf(\"        <op> is one of \\'+\\', \\'-\\', \\'*\\', \\'/\\'\\n\");\n",
    "}\n",
    "\n",
    "void\toperate(int a, char *op, int b)\n",
    "{\n",
    "\tif (ft_strncmp(op, \"+\", 1) == 0)\n",
    "\t\tprintf(\"%d\", a + b);\n",
    "\telse if (ft_strncmp(op, \"-\", 1) == 0)\n",
    "\t\tprintf(\"%d\", a - b);\n",
    "\telse if (ft_strncmp(op, \"*\", 1) == 0)\n",
    "\t\tprintf(\"%d\", a * b);\n",
    "\telse if (ft_strncmp(op, \"/\", 1) == 0)\n",
    "\t{\n",
    "\t\tif (b != 0)\n",
    "\t\t\tprintf(\"%d\", a / b);\n",
    "\t\telse\n",
    "\t\t\tprintf(\"Error: not a number\");\n",
    "\t}\n",
    "\telse\n",
    "\t\tprintf(\"Error: bad expression\");\n",
    "}\n",
    "\n",
    "int\tmain(int argc, char **args)\n",
    "{\n",
    "\tchar\t**expr;\n",
    "\n",
    "\tif (argc == 1)\n",
    "\t\tprint_help();\n",
    "\telse if (argc == 2)\n",
    "\t{\n",
    "\t\texpr = ft_split(args[1], ' ');\n",
    "\t\tif (!expr)\n",
    "\t\t\treturn (1);\n",
    "\t\tif (ft_isoperator(expr[1]))\n",
    "\t\t\toperate(ft_atoi(expr[0]), expr[1], ft_atoi(expr[2]));\n",
    "\t\telse\n",
    "\t\t{\n",
    "\t\t\tprintf(\"Error: bad expression\");\n",
    "\t\t\treturn (1);\n",
    "\t\t}\n",
    "\t\tfree(expr);\n",
    "\t}\n",
    "\telse\n",
    "\t{\n",
    "\t\tprintf(\"Error: bad expression\");\n",
    "\t\treturn (1);\n",
    "\t}\n",
    "\treturn (0);\n",
    "}"
   ]
  },
  {
   "cell_type": "code",
   "execution_count": null,
   "metadata": {
    "vscode": {
     "languageId": "shellscript"
    }
   },
   "outputs": [],
   "source": [
    "git add main.c\n",
    "git commit"
   ]
  },
  {
   "cell_type": "markdown",
   "metadata": {},
   "source": [
    "[] Elimina los ficheros operations.** y su #include."
   ]
  },
  {
   "cell_type": "code",
   "execution_count": null,
   "metadata": {
    "vscode": {
     "languageId": "shellscript"
    }
   },
   "outputs": [],
   "source": [
    "#include <stdio.h>\n",
    "#include <string.h>\n",
    "#include \"libft.h\"\n",
    "\n",
    "int\tft_isoperator(char *c)\n",
    "{\n",
    "\treturn (ft_strncmp(c, \"+\", 1) == 0\n",
    "\t\t|| ft_strncmp(c, \"-\", 1) == 0\n",
    "\t\t|| ft_strncmp(c, \"*\", 1) == 0\n",
    "\t\t|| ft_strncmp(c, \"/\", 1) == 0);\n",
    "}\n",
    "\n",
    "int ft_isspace(char s)\n",
    "{\n",
    "\treturn (s == ' ');\n",
    "}\n",
    "\n",
    "void\tprint_help(void)\n",
    "{\n",
    "\tprintf(\"Usage: ./HAL \\\"num op num\\\"\\n\");\n",
    "\tprintf(\"    where\\n\");\n",
    "\tprintf(\"        <num> is a number\\n\");\n",
    "\tprintf(\"        <op> is one of \\'+\\', \\'-\\', \\'*\\', \\'/\\'\\n\");\n",
    "}\n",
    "\n",
    "void\toperate(int a, char *op, int b)\n",
    "{\n",
    "\tif (ft_strncmp(op, \"+\", 1) == 0)\n",
    "\t\tprintf(\"%d\", a + b);\n",
    "\telse if (ft_strncmp(op, \"-\", 1) == 0)\n",
    "\t\tprintf(\"%d\", a - b);\n",
    "\telse if (ft_strncmp(op, \"*\", 1) == 0)\n",
    "\t\tprintf(\"%d\", a * b);\n",
    "\telse if (ft_strncmp(op, \"/\", 1) == 0)\n",
    "\t{\n",
    "\t\tif (b != 0)\n",
    "\t\t\tprintf(\"%d\", a / b);\n",
    "\t\telse\n",
    "\t\t\tprintf(\"Error: not a number\");\n",
    "\t}\n",
    "\telse\n",
    "\t\tprintf(\"Error: bad expression\");\n",
    "}\n",
    "\n",
    "int\tmain(int argc, char **args)\n",
    "{\n",
    "\tchar\t**expr;\n",
    "\n",
    "\tif (argc == 1)\n",
    "\t\tprint_help();\n",
    "\telse if (argc == 2)\n",
    "\t{\n",
    "\t\texpr = ft_split(args[1], ' ');\n",
    "\t\tif (!expr)\n",
    "\t\t\treturn (1);\n",
    "\t\tif (ft_isoperator(expr[1]))\n",
    "\t\t\toperate(ft_atoi(expr[0]), expr[1], ft_atoi(expr[2]));\n",
    "\t\telse\n",
    "\t\t{\n",
    "\t\t\tprintf(\"Error: bad expression\");\n",
    "\t\t\treturn (1);\n",
    "\t\t}\n",
    "\t\tfree(expr);\n",
    "\t}\n",
    "\telse\n",
    "\t{\n",
    "\t\tprintf(\"Error: bad expression\");\n",
    "\t\treturn (1);\n",
    "\t}\n",
    "\treturn (0);\n",
    "}"
   ]
  },
  {
   "cell_type": "code",
   "execution_count": null,
   "metadata": {
    "vscode": {
     "languageId": "shellscript"
    }
   },
   "outputs": [],
   "source": [
    "git add .\n",
    "git commit -m \"Eliminar operations\""
   ]
  },
  {
   "cell_type": "markdown",
   "metadata": {},
   "source": [
    "[] Fusiona los cambios develop -> master."
   ]
  },
  {
   "cell_type": "code",
   "execution_count": null,
   "metadata": {
    "vscode": {
     "languageId": "shellscript"
    }
   },
   "outputs": [],
   "source": [
    "git checkout master\n",
    "git merge develop "
   ]
  },
  {
   "cell_type": "markdown",
   "metadata": {},
   "source": [
    "### [v2.1.0] Become sentient"
   ]
  },
  {
   "cell_type": "markdown",
   "metadata": {},
   "source": [
    "La calculadora ahora añade colores y consciencia propia."
   ]
  },
  {
   "cell_type": "code",
   "execution_count": null,
   "metadata": {
    "vscode": {
     "languageId": "shellscript"
    }
   },
   "outputs": [],
   "source": [
    "$> ./HAL \"0 ^ 2001\"\n",
    "\"I'm afraid, Dave.\"\n",
    "\n",
    "$> ./HAL \"    9000 \"\n",
    "\"The 9000 series is the most reliable computer ever made.\"\n",
    "\n",
    "$> ./HAL \"42 + 42\"\n",
    "84\n",
    "\n",
    "$> ./HAL \"42 + 9000\"\n",
    "9042\n",
    "\n",
    "$> ./HAL \" 42   \"\n",
    "\"Sorry, Dave. I'm afraid I can't do that.\""
   ]
  },
  {
   "cell_type": "markdown",
   "metadata": {},
   "source": [
    "> [!Caution]\n",
    "\n",
    "> Lo siento, no hay recursos para esto, es el final del bonus. Up2U!"
   ]
  },
  {
   "cell_type": "markdown",
   "metadata": {},
   "source": [
    "Para estas últimas tareas, usa tu cabeza y la experiencia de todo lo que has estado haciendo hasta ahora: desarrolla estos cambios en una rama `bonus` que parte del último commit de `develop`, pero siéntete libre de implementar lo pedido como mejor te parezca."
   ]
  },
  {
   "cell_type": "markdown",
   "metadata": {},
   "source": [
    "`bonus`:\n",
    "\n",
    "[] Implementa que los mensajes de la calculadora se muestren en los colores indicados.\n",
    "\n",
    "| Mensaje                  | Color    |\n",
    "| :----------------------: | :------: |\n",
    "| \"Error: bad expression\"  | rosa     |\n",
    "| \"Error: not a number\"    | azul     |\n",
    "| \"Usage\"                  | verde    |\n",
    "| Resultado                | amarillo |\n",
    "| Entrada especial         | rojo     |\n",
    "\n",
    "Los colores vienen como código de caracteres: por ejemplo, digamos que rojo es \"\\0033\", pues si quieres colorear \"Hola\" con rojo, basta con concatenar el color antes del texto, \"\\0033Hola\"; por otra parte, no hay que olvidar formatear el texto para que vuelva a su color original, que también tiene un código propio."
   ]
  },
  {
   "cell_type": "code",
   "execution_count": null,
   "metadata": {
    "vscode": {
     "languageId": "shellscript"
    }
   },
   "outputs": [],
   "source": [
    "git checkout develop \n",
    "git branch bonus\n",
    "git checkout bonus"
   ]
  },
  {
   "cell_type": "code",
   "execution_count": null,
   "metadata": {
    "vscode": {
     "languageId": "c"
    }
   },
   "outputs": [],
   "source": [
    "#include <stdio.h>\n",
    "#include <string.h>\n",
    "#include \"libft.h\"\n",
    "\n",
    "int\tft_isoperator(char *c)\n",
    "{\n",
    "\treturn (ft_strncmp(c, \"+\", 1) == 0\n",
    "\t\t|| ft_strncmp(c, \"-\", 1) == 0\n",
    "\t\t|| ft_strncmp(c, \"*\", 1) == 0\n",
    "\t\t|| ft_strncmp(c, \"/\", 1) == 0);\n",
    "}\n",
    "\n",
    "int ft_isspace(char s)\n",
    "{\n",
    "\treturn (s == ' ');\n",
    "}\n",
    "\n",
    "void\tprint_help(void)\n",
    "{\n",
    "\tprintf(\"\\033[32m Usage: ./HAL \\\"num op num\\\" \\033[0m\\n\");\n",
    "\tprintf(\"\\033[32m     where \\033[0m\\n\");\n",
    "\tprintf(\"\\033[32m         <num> is a number \\033[0m\\n\");\n",
    "\tprintf(\"\\033[32m         <op> is one of \\'+\\', \\'-\\', \\'*\\', \\'/\\' \\033[0m\\n\");\n",
    "}\n",
    "\n",
    "void\toperate(int a, char *op, int b)\n",
    "{\n",
    "\tif (ft_strncmp(op, \"+\", 1) == 0)\n",
    "\t\tprintf(\"%d\", a + b);\n",
    "\telse if (ft_strncmp(op, \"-\", 1) == 0)\n",
    "\t\tprintf(\"%d\", a - b);\n",
    "\telse if (ft_strncmp(op, \"*\", 1) == 0)\n",
    "\t\tprintf(\"%d\", a * b);\n",
    "\telse if (ft_strncmp(op, \"/\", 1) == 0)\n",
    "\t{\n",
    "\t\tif (b != 0)\n",
    "\t\t\tprintf(\"\\033[33m %d \\033[0m\", a / b);\n",
    "\t\telse\n",
    "\t\t\tprintf(\"\\033[34m Error: not a number \\033[0m\");\n",
    "\t}\n",
    "\telse\n",
    "\t\tprintf(\"\\033[35m Error: bad expression \\033[0m\");\n",
    "}\n",
    "\n",
    "int\tmain(int argc, char **args)\n",
    "{\n",
    "\tchar\t**expr;\n",
    "\n",
    "\tif (argc == 1)\n",
    "\t\tprint_help();\n",
    "\telse if (argc == 2)\n",
    "\t{\n",
    "\t\texpr = ft_split(args[1], ' ');\n",
    "\t\tif (!expr)\n",
    "\t\t\treturn (1);\n",
    "\t\tif (ft_isoperator(expr[1]))\n",
    "\t\t\toperate(ft_atoi(expr[0]), expr[1], ft_atoi(expr[2]));\n",
    "\t\telse\n",
    "\t\t{\n",
    "\t\t\tprintf(\"\\033[35m Error: bad expression \\033[0m\");\n",
    "\t\t\treturn (1);\n",
    "\t\t}\n",
    "\t\tfree(expr);\n",
    "\t}\n",
    "\telse\n",
    "\t{\n",
    "\t\tprintf(\"\\033[35m Error: bad expression \\033[0m\");\n",
    "\t\treturn (1);\n",
    "\t}\n",
    "\treturn (0);\n",
    "}"
   ]
  },
  {
   "cell_type": "code",
   "execution_count": null,
   "metadata": {
    "vscode": {
     "languageId": "shellscript"
    }
   },
   "outputs": [],
   "source": [
    "git add main.c \n",
    "git commit -m \"Salidas con colores\""
   ]
  },
  {
   "cell_type": "markdown",
   "metadata": {},
   "source": [
    "[ ] Implementa la *consciencia propia* de la calculadora para que hable en casos específicos.\n",
    "\n",
    "| Entradas especiales | Mensaje                                                    |\n",
    "| :-----------------: | :--------------------------------------------------------: |\n",
    "| \"2001 <op> 2001\"    | \"I'm afraid, Dave.\"                                        |\n",
    "| \"9000\"              | \"The 9000 series is the most reliable computer ever made.\" |\n",
    "| \"42\"                | \"Sorry, Dave. I'm afraid I can't do that.\"        \n",
    "\n",
    "Comprobando más opciones de entrada distintas, esto debería ser bastante fácil, ¿no?"
   ]
  },
  {
   "cell_type": "code",
   "execution_count": null,
   "metadata": {
    "vscode": {
     "languageId": "shellscript"
    }
   },
   "outputs": [],
   "source": []
  },
  {
   "cell_type": "code",
   "execution_count": null,
   "metadata": {
    "vscode": {
     "languageId": "shellscript"
    }
   },
   "outputs": [],
   "source": [
    "git add main.c \n",
    "git commit -m \"Entradas especiales"
   ]
  },
  {
   "cell_type": "markdown",
   "metadata": {},
   "source": [
    "# Evaluación"
   ]
  },
  {
   "cell_type": "markdown",
   "metadata": {},
   "source": [
    "Me temo que, legalmente hablando, no hay forma de evaluar el proyecto, así que no hay evaluación.\n",
    "\n",
    "Una forma de evaluar el proyecto de alguien es comprobando que para cada versión, se cumplen las tareas de dicha versión; recuerda que puedes comprobar las versiones de un repositorio con:"
   ]
  },
  {
   "cell_type": "code",
   "execution_count": null,
   "metadata": {
    "vscode": {
     "languageId": "shellscript"
    }
   },
   "outputs": [],
   "source": [
    "git checkout <versión>"
   ]
  }
 ],
 "metadata": {
  "language_info": {
   "name": "python"
  }
 },
 "nbformat": 4,
 "nbformat_minor": 2
}
