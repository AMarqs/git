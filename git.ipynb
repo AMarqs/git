{
 "cells": [
  {
   "cell_type": "markdown",
   "metadata": {},
   "source": [
    "# I. Introducción\n",
    "\n",
    "Esto no es \"Guía del autoestopista galáctico\".\n",
    "\n",
    "# II. Instrucciones generales\n",
    "\n",
    "Este proyecto seguirá la misma dinámica que cualquier otro proyecto del cursus: reglas del Makefile, Norma*, etc; no obstante, para este proyecto en particular se añadirá algo nuevo: un buen uso de Git.\n",
    "\n",
    "- Se debe aplicar el Flujo de Trabajo de Git al desarrollo.\n",
    "- Tu proyecto usará 2 ramas básicas: la rama principal **master** y de desarrollo **develop**.\n",
    "- Tu proyecto tendrá varias versiones: MAJOR (**x.0.0**) en **master**, y el resto en **develop**.\n",
    "- Todas las versiones de tu proyecto deben definirse siguiendo el versionado semántico.\n",
    "\n",
    "* La Norma va a molestar un poco, así que no la vamos a tener muy en cuenta. Guarda el secreto.\n",
    "\n",
    "# III. Resultados esperados\n",
    "\n",
    "Este taller no trata sobre lenguaje C; así que lo importante no será el resultado final, sino el proceso.\n",
    "\n",
    "Se espera que tu repositorio contenga:\n",
    "\n",
    "- **Commits** bien redactados, relevantes y estructurados.\n",
    "- **Ramas** bien definidas, cuyos cambios reflejen un tema concreto.\n",
    "- **Fusiones** que no dejen el repositorio en un estado inconsistente.\n",
    "- **Etiquetas** que reflejen un estado concreto del proyecto.\n",
    "\n",
    "# IV. Ejercicio\n",
    "\n",
    "## Antes de empezar\n",
    "\n",
    "Este proyecto está estructurado de una forma distinta a la que podrías estar acostumbrado: lee detenidamente este apartado antes de empezar a trabajar y realiza lo pedido de la forma pedida.\n",
    "\n",
    "Todo el código necesario ya está programado en recursos, por lo que para realizar las tareas, solo tendrás que colocarlo adecuadamente o bien realizar pequeñas modificaciones sobre un código que ya hayas usado.\n",
    "\n",
    "### Tareas y versiones.\n",
    "\n",
    "Este proyecto está dividido en versiones, a su vez divididas en tareas.\n",
    "\n",
    "- Debes completar correctamente todas las tareas de una versión para desarrollar la siguiente.\n",
    "- Debes completar las tareas en el orden en el que se presentan (te resultará más fácil y cómodo).\n",
    "- Debes hacer un commit al completar una tarea; usa descripciones cuando consideres necesario.\n",
    "- Debes etiquetar una versión al terminar su última tarea y antes de empezar la siguiente versión.\n",
    "\n",
    "### Observaciones.\n",
    "\n",
    "- Antes de cada tarea se indica la **rama** en la que debe realizarse; si la rama no existe, créala.\n",
    "- Al inicio de cada versión se muestra un ejemplo del funcionamiento de la calculadora en esa versión.\n",
    "- Si una versión no cumple todos sus requisitos, deberás corregirlos y etiquetarlos como PATCH (versionado semántico).\n",
    "- Las tareas están indicadas con casillas (- [ ]).\n",
    "\n",
    "## Descripción\n",
    "\n",
    "Crearás un programa que simula una calculadora.\n",
    "\n",
    "- Recibirá expresiones aritméticas de 2 elementos como un solo argumento de tipo **string**.\n",
    "- Mostrará su resultado por la salida estándar.\n",
    "- Mostrará un mensaje de ayuda si no recibe ningún argumento.\n",
    "- Mostrará un mensaje de error, en función del error, en cualquier otro caso.\n",
    "\n",
    "Ejemplo de uso:"
   ]
  },
  {
   "cell_type": "code",
   "execution_count": null,
   "metadata": {
    "vscode": {
     "languageId": "plaintext"
    }
   },
   "outputs": [],
   "source": [
    "$> ./HAL\n",
    "Usage: HAL \"num op num\"\n",
    "    where\n",
    "        <num> is a number\n",
    "        <op> is one of '+ - * /' operators\n",
    "\n",
    "$> ./HAL \"1 + 2\"\n",
    "3\n",
    "\n",
    "$> ./HAL \"  34  *  5  \"\n",
    "170\n",
    "\n",
    "$> ./HAL \"678 / 0\"\n",
    "Error: not a number\n",
    "\n",
    "$> ./HAL \" 9   + -10 \"\n",
    "-1\n",
    "\n",
    "$> ./HAL \"1 +\" \"2\"\n",
    "Error: bad expression\n",
    "\n",
    "$> ./HAL \"+ 1 2\"\n",
    "Error: bad expression\n",
    "\n",
    "$> ./HAL \"1 + 2 + 3\"\n",
    "Error: bad expression"
   ]
  },
  {
   "cell_type": "markdown",
   "metadata": {},
   "source": [
    "## Parte obligatoria\n",
    "\n",
    "### Repositorio\n",
    "\n",
    "Antes de empezar, será necesario un repositorio; además, vamos a configurarlo un poco para que sea más cómodo trabajar con él.\n",
    "\n",
    "[ ] Crea un repositorio llamado gt_HAL9000 en tu carpeta de usuario del sistema."
   ]
  },
  {
   "cell_type": "code",
   "execution_count": null,
   "metadata": {
    "vscode": {
     "languageId": "plaintext"
    }
   },
   "outputs": [],
   "source": [
    "$> mkdir gt_HAL9000\n",
    "$> cd gt_HAL9000/\n",
    "$> git init"
   ]
  },
  {
   "cell_type": "markdown",
   "metadata": {},
   "source": [
    "[ ] Modifica la configuración local para cambiar los campos **user.name**, **user.email** y **merge.ff**:\n",
    "        - Usa tu nombre o un mote (cuidado, aparecerá en los commits).\n",
    "        - Usa tu correo de GitHub (si usas varios, elige el más bonito).\n",
    "        - Desactiva los merge fast-forward. No te saltes este paso (si no sabes qué es esto, ¡Up2U!)."
   ]
  },
  {
   "cell_type": "code",
   "execution_count": null,
   "metadata": {
    "vscode": {
     "languageId": "plaintext"
    }
   },
   "outputs": [],
   "source": [
    "git config --local user.name albmarqu\n",
    "git config --local user.mail albmarqu@student.42malaga.com\n",
    "git config --local merge.ff false"
   ]
  },
  {
   "cell_type": "markdown",
   "metadata": {},
   "source": [
    "[ ] Modifica tu configuración global para crear el alias git lg:\n",
    "        - Crea un alias que muestre la salida de git log mostrando un commit por línea de todas las ramas y decorado como un grafo."
   ]
  },
  {
   "cell_type": "code",
   "execution_count": null,
   "metadata": {
    "vscode": {
     "languageId": "plaintext"
    }
   },
   "outputs": [],
   "source": [
    "git config --global alias.lg \"log --oneline --decorate --graph --all\""
   ]
  },
  {
   "cell_type": "markdown",
   "metadata": {},
   "source": [
    "> [!NOTE]\n",
    "> Este alias te permitirá visualizar tu Árbol de Trabajo, algo que te resultará muy útil no solo durante el resto del ejercicio, sino durante el resto de tu vida."
   ]
  },
  {
   "cell_type": "markdown",
   "metadata": {},
   "source": [
    "### Inclusión de recursos\n",
    "\n",
    "La calculadora aún no hace nada, pero se añaden los recursos necesarios para empezar a trabajar.\n",
    "\n",
    "`master`: Añade un README que explique el funcionamiento de la calculadora"
   ]
  },
  {
   "cell_type": "code",
   "execution_count": null,
   "metadata": {
    "vscode": {
     "languageId": "plaintext"
    }
   },
   "outputs": [],
   "source": [
    "touch README.md"
   ]
  },
  {
   "cell_type": "markdown",
   "metadata": {},
   "source": [
    "> [!NOTE]\n",
    "> Una vez creado, edito el archivo desde Visual Code. También se puede crear y editar el archivo directamente en la terminal con `vim`."
   ]
  },
  {
   "cell_type": "markdown",
   "metadata": {},
   "source": [
    "`develop`: Crea un .gitignore que ignore un ejecutable HAL y a las extensiones (.o, .tmp y .a)."
   ]
  },
  {
   "cell_type": "markdown",
   "metadata": {},
   "source": [
    "> [!NOTE]\n",
    "> Primero tengo que crear la rama `develop` y luego añadirle el archivo .gitignore dentro."
   ]
  },
  {
   "cell_type": "markdown",
   "metadata": {},
   "source": []
  }
 ],
 "metadata": {
  "language_info": {
   "name": "python"
  }
 },
 "nbformat": 4,
 "nbformat_minor": 2
}
